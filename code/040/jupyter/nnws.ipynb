{
 "cells": [
  {
   "cell_type": "markdown",
   "id": "7a44ee85-54a5-4ae8-a609-8f71ac16ef94",
   "metadata": {
    "editable": true,
    "slideshow": {
     "slide_type": ""
    },
    "tags": []
   },
   "source": [
    "# Redes neuronales con aplicaciones."
   ]
  },
  {
   "cell_type": "markdown",
   "id": "fec106f9-b727-4653-b3a7-f697aa481753",
   "metadata": {},
   "source": [
    "## ¿Que son las redes neuronales?\n",
    "\n",
    "Las redes neuronales son algoritmos de aprendizaje automático supervisado que permiten aproximar una función $\\mathbf{y} = F(\\mathbf{x})$ desconocida \n",
    "empleando un conjunto de observaciones o mediciones de las variables $\\mathbf{x}$ e $\\mathbf{y}$."
   ]
  },
  {
   "cell_type": "markdown",
   "id": "2773d7b3-b1ca-47c9-ae9a-e46616784f07",
   "metadata": {},
   "source": [
    "### Las redes neuronales son algoritmos\n",
    "\n",
    "Las implementaciones de las redes neuronales están incorporadas en programas.\n",
    "\n",
    "#### Aplicaciones generales\n",
    "\n",
    "* **Reconocimiento facial:** Se detectan las caras de las personas en las imágenes o videos. Se utiliza en una variedad de aplicaciones, como seguridad, control de acceso y publicidad.\n",
    "* **Reconocimiento de voz:** Se detecta e identifica las voces humanas. Se utiliza en una variedad de aplicaciones, como asistentes virtuales, chatbots y sistemas de control por voz.\n",
    "* **Traductores automáticos:** Se traduce texto de un idioma a otro. Son cada vez más precisos y se utilizan en viajes, comercio y educación.\n",
    "* **Clasificación de imágenes:** Se asigna una clase o rótulo a una imagen dada. Se utiliza en una variedad de aplicaciones, como análisis de imágenes médicas, detección de objetos y clasificación de productos.\n",
    "* **Generación de imágenes:** Este software utiliza redes neuronales para crear imágenes nuevas y realistas, con aplicaciones como diseño gráfico, entretenimiento y educación.\n",
    "* **Juegos:** En juegos se utilizan redes neuronales para crear oponentes más desafiantes y entornos más inmersivos.\n",
    "* **Ciberseguridad:** Se detectan amenazas cibernéticas y protegen los sistemas informáticos mediante clasificación de archivos y reconocimiento de patrones en secuencias de bits.\n",
    "* **Metereología:**\n",
    "  1. https://www.ecmwf.int/en/about/media-centre/aifs-blog/2023/ECMWF-unveils-alpha-version-of-new-ML-model\n",
    "  2. https://www.ecmwf.int/en/about/media-centre/science-blog/2023/rise-machine-learning-weather-forecasting\n",
    "  3. https://www.ecmwf.int/en/newsletter/174/earth-system-science/use-machine-learning-detection-and-classification\n",
    "  4. https://www.ecmwf.int/en/about/media-centre/news/2023/how-ai-models-are-transforming-weather-forecasting-showcase-data\n",
    "\n",
    "#### Ejemplos específicos\n",
    "\n",
    "* **Face ID de Apple:** Este sistema utiliza redes neuronales para identificar a los usuarios de iPhone y iPad por su rostro.\n",
    "* **Google Assistant:** Este asistente virtual utiliza redes neuronales para comprender las instrucciones de voz y responder a las preguntas.\n",
    "* **Microsoft Translator:** Este traductor automático utiliza redes neuronales para traducir texto entre más de 100 idiomas.\n",
    "* **TensorFlow:** Este marco de aprendizaje automático de código abierto de Google permite construir redes neuronales, entrenarlas y emplearlas.\n",
    "* **OpenAI Five:** Este equipo de Dota 2 utiliza redes neuronales para jugar al juego de manera competitiva.\n",
    "* **DeepMind AlphaGo:** Este programa de IA utilizó redes neuronales para derrotar al campeón mundial de Go, Lee Sedol.\n",
    "\n"
   ]
  },
  {
   "cell_type": "markdown",
   "id": "84ddf923-821b-4231-abc3-d525d238984a",
   "metadata": {},
   "source": [
    "### Aprendizaje automático supervisado\n",
    "\n",
    "El aprendizaje automático o machine learning es un tema del campo de la inteligencia artificial, perteneciente a las ciencias de la cmputación.\n",
    "\n",
    "Existen tres grandes variantes del aprendizaje automático:\n",
    "1. Aprendizaje supervisado\n",
    "2. Aprendizaje no supervisado\n",
    "3. Aprendizaje por refuerzo (reinforced learning)\n",
    "\n",
    "El aprendizaje automático supervisado nos permite construir un modelo determinado por un conjunto de datos de entrenamiento que contiene ejemplos de entradas $\\mathbf{x}_{e}$ y salidas $\\mathbf{y}_{e}$.\n",
    "Para eso, el algoritmo tiene dos partes: el entrenamiento y la inferencia.\n",
    "\n",
    "En el entrenamiento, se emplean los datos de entrenamiento $\\mathbf{x}_{e}$ e $\\mathbf{y}_{e}$ para obtener unos coeficientes $\\mathbf{w}$\n",
    "\\begin{equation}\n",
    "   \\mathbf{w}_{k+1} = g(\\mathbf{x}_{e}, \\mathbf{y}_{e}, \\mathbf{w}_{k}),\n",
    "\\end{equation}\n",
    "donde $\\mathbf{w}_{0}$ se inicializa con valores aleatorios.\n",
    "\n",
    "El algoritmo $g(\\mathbf{x}, \\mathbf{y}, \\mathbf{w})$ (también implementado en software) minimiza una función de pérdida o error (la diferencia entre la salida de la inferencia y la salida deseada)\n",
    "\\begin{equation}\n",
    "L(\\mathbf{x}_{e}, \\mathbf{y}_{e}, \\mathbf{w}_{k}) = \\sum_{e} \\left(f(\\mathbf{x}_{e}, \\mathbf{w}_{k}) - \\mathbf{y}_{e}\\right)^{2},\n",
    "\\end{equation}\n",
    "para determinar el valor óptimo de $\\mathbf{w}$. \n",
    "\n",
    "Una vez obtenido un valor adecuado de $\\mathbf{w}$ con un valor suficientemente bajo de la función de pérdida, se detiene el entrenamiento y se guardan los coeficientes $\\mathbf{w}$ para su uso en la fase de inferencia.\n",
    "\n",
    "El aprendizaje automático supervisado se utiliza en una variedad de aplicaciones, como:\n",
    "\n",
    "* **Clasificación:** Se utiliza para clasificar datos en categorías. Por ejemplo, se puede utilizar para clasificar imágenes en categorías de objetos o para clasificar correos electrónicos en categorías de spam o no spam.\n",
    "* **Regresión:** Se utiliza para predecir un valor continuo. Por ejemplo, se puede utilizar para predecir el precio de una casa, para predecir la demanda de un producto, o en general para predecir los valores futuros de determinadas variables en función de los valores pasados.\n",
    "* **Reconocimiento de patrones:** Se utiliza para identificar patrones en datos. Por ejemplo, se puede utilizar para identificar patrones de fraude o para identificar patrones de comportamiento de los clientes.\n",
    "\n",
    "#### **Ejemplo**\n",
    "\n",
    "Supóngamos que queremos desarrollar un modelo para clasificar imágenes de gatos y perros. Podemos recopilar un conjunto de datos de entrenamiento que contenga imágenes de gatos y perros, junto con etiquetas que indiquen si cada imagen es un gato o un perro. Podemos entrenar un modelo de aprendizaje automático supervisado en este conjunto de datos. El modelo aprenderá a asociar las características de las imágenes con la etiqueta correcta.\n",
    "\n",
    "Una vez que el modelo esté entrenado, podemos utilizarlo para clasificar nuevas imágenes. El modelo predecirá si una imagen es un gato o un perro.\n",
    "\n",
    "#### **Ventajas**\n",
    "\n",
    "El aprendizaje automático supervisado tiene varias ventajas, entre ellas:\n",
    "\n",
    "* **Es preciso:** Los modelos de aprendizaje automático supervisado pueden ser muy precisos.\n",
    "* **Es fiable:** Los modelos de aprendizaje automático supervisado pueden ser fiables en entornos nuevos.\n",
    "* **Es escalable:** Los modelos de aprendizaje automático supervisado se pueden escalar para manejar grandes conjuntos de datos.\n",
    "\n",
    "#### **Desventajas**\n",
    "\n",
    "El aprendizaje automático supervisado también tiene algunas desventajas, entre ellas:\n",
    "\n",
    "* **Requiere un conjunto de datos de entrenamiento:** El modelo necesita ser entrenado en un conjunto de datos de entrenamiento.\n",
    "* **Puede ser costoso:** La recopilación y el etiquetado de un conjunto de datos de entrenamiento puede ser costoso.\n",
    "* **Puede ser sesgado:** El modelo puede aprender sesgos de los datos de entrenamiento.\n",
    "\n"
   ]
  },
  {
   "cell_type": "markdown",
   "id": "17d42710-2a9d-40c6-94c1-ab60be2e7155",
   "metadata": {},
   "source": [
    "## Implementación de redes neuronales\n",
    "\n",
    "Las redes neuronales pueden implementarse empleando librerías de software como Tensorflow o Pytorch, que simplifican la definición de los modelos y el proceso de entrenamiento."
   ]
  },
  {
   "cell_type": "markdown",
   "id": "c510f98b-0114-458f-92fa-e6eb1edc3b3e",
   "metadata": {},
   "source": [
    "## https://www.tensorflow.org/\n",
    "\n",
    "En este encuentro, vamos a ver la librería Tensorflow, que nos permite construir redes neurales, entrenarlas y usarlas para obtener una salida $\\mathbf{y}$ dada una entrada $\\mathbf{x}$.\n",
    "\n",
    "En el sitio web https://www.tensorflow.org/ podemos ver tutoriales para muy diferentes aplicaciones. Ahora vamos a ver solo dos ejemplos, con la intención mostrar la relación entre las ecuaciones mostradas arriba y su traducción a software.\n",
    "\n",
    "Además, en estos ejemplos veremos que la red neuronal es una parte de un programa mayor, pero por si sola carece de una interfase con los usuarios (un punto de encuentro, donde los datos entran y salen de la red neuronal). "
   ]
  },
  {
   "cell_type": "markdown",
   "id": "e54853a8-2bfb-47e8-b2df-55a35f21eece",
   "metadata": {},
   "source": [
    "### Ejemplo 1\n",
    "\n",
    "https://www.tensorflow.org/tutorials/images/classification\n",
    "\n",
    "https://www.tensorflow.org/tutorials/load_data/images\n",
    "\n",
    "Abajo vemos un programa en python que implementa una red neuronal para \n",
    "clasificar imágenes de flores.\n",
    "\n",
    "Es una versión preparada para esta presentación. El original forma parte del \n",
    "tutorial de Tensorflow.\n",
    "\n",
    "Usaremos un dataset de aproximadamente 3700 imágenes de flores. \n",
    "El dataset contiene cinco sub-directorios, uno por clase:\n",
    "\n",
    "flower_photo/\n",
    "  daisy/\n",
    "  dandelion/\n",
    "  roses/\n",
    "  sunflowers/\n",
    "  tulips/\n",
    "\n",
    "Este programa esta dividido en dos partes, train.py y core.py"
   ]
  },
  {
   "cell_type": "code",
   "execution_count": null,
   "id": "3ac0ad3d-1fc8-4c6e-a5ff-125298f62a64",
   "metadata": {},
   "outputs": [],
   "source": [
    "# train.py\n",
    "\n",
    "from core import get_dataset, get_model, fit_model \n",
    "from pathlib import Path \n",
    "\n",
    "# Definitions\n",
    "image_width, image_height, channels = 150, 150, 3\n",
    "batch_size = 32\n",
    "\n",
    "# Data\n",
    "home = Path('~').expanduser()\n",
    "data_directory = Path(home, 'Data', 'flower_photo', 'train')\n",
    "saved_weights = Path(home, 'Data', 'weights', 'flowers.hf5')\n",
    "\n",
    "# Model Initialization\n",
    "model = get_model(image_heigth, image_width)\n",
    "\n",
    "# Load data\n",
    "train_dataset, validation_dataset = get_datasets(\n",
    "    data_directory, image_width, image_height, batch_size)\n",
    "\n",
    "# Training\n",
    "fit_model(model, train_dataset, validation_dataset, epochs, saved_weights)\n"
   ]
  },
  {
   "cell_type": "code",
   "execution_count": null,
   "id": "5d9c39ce-345b-463c-983e-593cf637ba33",
   "metadata": {},
   "outputs": [],
   "source": [
    "# core.py\n",
    "import tensorflow as tf\n",
    "from keras.models import Sequential\n",
    "from keras.layers import Conv2D, MaxPooling2D\n",
    "from keras.layers import Activation, Dropout, Flatten, Dense\n",
    "from keras import backend as K\n",
    "\n",
    "\n",
    "def get_datasets(\n",
    "    data_directory,\n",
    "    image_width,\n",
    "    image_height,\n",
    "    batch_size):\n",
    "    \n",
    "    train_dataset = tf.keras.utils.image_dataset_from_directory(\n",
    "        data_directory,\n",
    "        validation_split=0.2,\n",
    "        subset=\"training\",\n",
    "        seed=123,\n",
    "        image_size=(image_height, image_width),\n",
    "        batch_size=batch_size)\n",
    "\n",
    "    validation_datasset = tf.keras.utils.image_dataset_from_directory(\n",
    "        data_directory,\n",
    "        validation_split=0.2,\n",
    "        subset=\"validation\",\n",
    "        seed=123,\n",
    "        image_size=(image_height, image_width),\n",
    "        batch_size=batch_size)\n",
    "\n",
    "    return train_dataset, validation_dataset\n",
    "\n",
    "\n",
    "def get_model(image_height, image_width, number_of_classes):\n",
    "    print('building model')\n",
    "    model = Sequential([\n",
    "       layers.Rescaling(1./255, input_shape=(image_height, image_width, 3)),\n",
    "       layers.Conv2D(16, 3, padding='same', activation='relu'),\n",
    "       layers.MaxPooling2D(),\n",
    "       layers.Conv2D(32, 3, padding='same', activation='relu'),\n",
    "       layers.MaxPooling2D(),\n",
    "       layers.Conv2D(64, 3, padding='same', activation='relu'),\n",
    "       layers.MaxPooling2D(),\n",
    "       layers.Flatten(),\n",
    "       layers.Dense(128, activation='relu'),\n",
    "       layers.Dense(number_of_classes)\n",
    "    ])\n",
    "\n",
    "    model.compile(\n",
    "        optimizer='adam',\n",
    "        loss=tf.keras.losses.SparseCategoricalCrossentropy(from_logits=True),\n",
    "        metrics=['accuracy'])\n",
    "    \n",
    "    return model\n",
    "\n",
    "\n",
    "def fit_model(\n",
    "        model, \n",
    "        train_dataset, \n",
    "        validation_dataset, \n",
    "        epochs,\n",
    "        weights_filename):\n",
    "\n",
    "    history = model.fit(\n",
    "       train_dataset,\n",
    "       validation_data=validation_dataset,\n",
    "       epochs=epochs\n",
    "    )    \n",
    "    model.save_weights(weights_filename)\n",
    "    return history\n",
    "\n"
   ]
  },
  {
   "cell_type": "markdown",
   "id": "85f8b50b-a294-400a-9b9d-1216e1872acf",
   "metadata": {},
   "source": [
    "Estos programas en python emplean la libreria TensorFlow de Google para construir una red neuronal cuyo objetivo es clasificar imágenes. \n",
    "\n",
    "Dada una imagen digital $\\mathbf{x}$ la red neuronal decide que flor contiene (es decir, $\\mathbf{y}$ toma los valores posibles **daisy**, **dandelion**, **rose**, **sunflowers**, **tulip**."
   ]
  },
  {
   "cell_type": "markdown",
   "id": "a92de1bf-92f8-4228-9503-a8958eec93e0",
   "metadata": {},
   "source": [
    "#### Codificación de clases\n",
    "\n",
    "¿Como es posible para la red neuronal indicar una flor determinada? Para esto empleamos un código: \n",
    "\n",
    "1. **daisy** -> $\\left[1, 0, 0, 0, 0 \\right]$.\n",
    "2. **dandelion** -> $\\left[0, 1, 0, 0, 0\\right]$.\n",
    "3. **rose** -> $\\left[0, 0, 1, 0, 0\\right]$.\n",
    "4. **sunflower** -> $\\left[0, 0, 0, 1, 0\\right]$.\n",
    "5. **tulip** -> $\\left[0, 0, 0, 0, 1\\right]$."
   ]
  },
  {
   "cell_type": "markdown",
   "id": "63277718-2daf-428c-ba44-aadb19c82060",
   "metadata": {},
   "source": [
    "#### Todo bien con las flores, pero esta es una charla sobre redes neuronales aplicadas a metereología.\n",
    "\n",
    "En realidad la red indica **perro** o **gato** porque recibe imágenes de perros y gatos. Si reemplazamos las imágenes empleadas en la fase de entrenamiento por otras (por ejemplo, imágenes satelitales) podemos usar el mismo modelo para la clasificación que nos interese. Los nombres **perro** y **gato** son rótulos que pueden cambiarse libremente, y el único motivo de su existencia es poder asignar a cada imagen una clase única representada con un vector $\\left[ 1, 0 \\right]$ o vector $\\left[0, 1\\right]$."
   ]
  },
  {
   "cell_type": "markdown",
   "id": "96335cd6-7f54-43f5-b892-5be9ed802669",
   "metadata": {},
   "source": [
    "#### ¿Que pasa si aparece una imagen que no contiene un perro o un gato?\n",
    "\n",
    "En realidad, las redes neuronales que se usan como funciones de clasificación se definen de forma tal que sus resultados correspondan a la probabilidad de la clase $\\mathbf{y}$ dada la imagen $\\mathbf{x}$. El vector $\\left[ 1, 0 \\right]$ indica que corresponde una probabilidad de $1$ a la primer clase, y una probabilidad de $0$ a la segunda clase.\n",
    "\n",
    "Si recibimos una imagen de una ballena, la salida de la red neuronal será algo así como $\\left[ 0.5, 0.5 \\right]$ indicando que no es posible decidir entre una clase o la otra."
   ]
  },
  {
   "cell_type": "markdown",
   "id": "b9929f2c-d586-4314-8c78-3c137affcdfc",
   "metadata": {},
   "source": [
    "#### ¿Como podemos hacer para reemplazar las imágenes de perros y gatos por otras más interesantes?\n",
    "\n",
    "En el archivo core.py podemos observar el uso de la función flow_from_directory.\n",
    "Buscando en el manual de Tensorflow, podemos ver que esa función lee datos desde el disco rígido y los organiza en datasets para entrenamiento, validación y testeo. \n",
    "\n",
    "Podemos ver también que podemos almacenar nuestras imágenes en directorios, en una estructura similar a la requerida por la función flow_from_directory. De esta forma, las imágenes y las clases asignadas pueden ser modificadas a voluntad."
   ]
  },
  {
   "cell_type": "markdown",
   "id": "32eca69d-6abc-4fed-92f5-22d42bfd2abc",
   "metadata": {},
   "source": [
    "## Ejemplo 2:\n",
    "\n",
    "https://www.tensorflow.org/tutorials/structured_data/time_series"
   ]
  },
  {
   "cell_type": "markdown",
   "id": "48ac88a8-c762-4d69-b89d-9ee36f6e10c6",
   "metadata": {},
   "source": [
    "El dataset (conjunto de datos) de variables metereológicas\n",
    "\n",
    "Este tutorial usa un dataset construido por [el instituto de Biogeoquímica \"Max Planck\"].\n",
    "\n",
    "Los datos contienen 14 características distintas (temperatura del aire, presión atmósferica, humedad, etc), registradas cada diez minutos, desde el año 2003. En el ejemplo, se usan datos entre 2009 y 2016."
   ]
  },
  {
   "cell_type": "code",
   "execution_count": null,
   "id": "530fdfc7-0e0a-41be-9142-feed802674bb",
   "metadata": {},
   "outputs": [],
   "source": [
    "# Descarga del dataset\n",
    "zip_path = tf.keras.utils.get_file(\n",
    "    origin='https://storage.googleapis.com/tensorflow/tf-keras-datasets/jena_climate_2009_2016.csv.zip',\n",
    "    fname='jena_climate_2009_2016.csv.zip',\n",
    "    extract=True)\n",
    "csv_path, _ = os.path.splitext(zip_path)"
   ]
  },
  {
   "cell_type": "markdown",
   "id": "a1ef1748-f4f0-48c5-b343-59b7aa802500",
   "metadata": {},
   "source": [
    "**Es necesario filtrar, limpiar, y procesar los datos.**\n",
    "\n",
    "En este caso, los datos vienen en una planilla csv.\n",
    "\n",
    "Ejemplo: velocidad y dirección del viento, evolución del tiempo."
   ]
  },
  {
   "cell_type": "markdown",
   "id": "6d98f62c-b83b-41d7-9bf4-5ac0c7324ca5",
   "metadata": {},
   "source": [
    "## Hardware para trabajar con redes neuronales\n",
    "\n",
    "1. PC Gamer para entrenamiento (PC con GPU)\n",
    "2. Placas NVIDIA (Jetson Nano y superiores) (Inferencia)\n",
    "3. Raspberry PI 5 (Inferencia)"
   ]
  },
  {
   "cell_type": "markdown",
   "id": "1bb2a4b6-797c-4c52-81e3-30f6b94d7f8f",
   "metadata": {},
   "source": [
    "## El desarrollo de una aplicación con redes neuronales es un trabajo multidisciplinario\n",
    "\n",
    "1. Metereologos definen el problema que se busca resolver con la aplicación, y preparan el dataset de entrenamiento, evaluación y testeo.\n",
    "2. Ingenieros electrónicos trabajan con el hardware\n",
    "3. Licenciados en informática trabajan con el software.\n"
   ]
  }
 ],
 "metadata": {
  "kernelspec": {
   "display_name": "Python 3 (ipykernel)",
   "language": "python",
   "name": "python3"
  },
  "language_info": {
   "codemirror_mode": {
    "name": "ipython",
    "version": 3
   },
   "file_extension": ".py",
   "mimetype": "text/x-python",
   "name": "python",
   "nbconvert_exporter": "python",
   "pygments_lexer": "ipython3",
   "version": "3.8.10"
  }
 },
 "nbformat": 4,
 "nbformat_minor": 5
}
